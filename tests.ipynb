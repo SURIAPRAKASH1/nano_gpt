{
 "cells": [
  {
   "cell_type": "markdown",
   "id": "fe983af3",
   "metadata": {},
   "source": [
    "# *GPT*"
   ]
  },
  {
   "cell_type": "code",
   "execution_count": null,
   "id": "68e8cae0",
   "metadata": {},
   "outputs": [],
   "source": [
    "import numpy as np\n",
    "from dataclasses import dataclass\n",
    "import torch \n",
    "import pandas as pd\n",
    "import torch.nn as nn\n",
    "\n",
    "import matplotlib.pyplot as plt"
   ]
  },
  {
   "cell_type": "code",
   "execution_count": 65,
   "id": "ebede6a4",
   "metadata": {},
   "outputs": [],
   "source": [
    "@dataclass\n",
    "class Config:\n",
    "    n_embd = 128\n",
    "    block_size = 12 \n",
    "    batch_size = 32\n",
    "    height = 64\n",
    "    width = 64"
   ]
  },
  {
   "cell_type": "markdown",
   "id": "f9b0b482",
   "metadata": {},
   "source": [
    "# *Understanding Normalization Layers*"
   ]
  },
  {
   "cell_type": "code",
   "execution_count": 66,
   "id": "e41fdb63",
   "metadata": {},
   "outputs": [
    {
     "data": {
      "text/plain": [
       "(torch.Size([32, 128]),\n",
       " torch.Size([32, 12, 128]),\n",
       " torch.Size([32, 128, 64, 64]))"
      ]
     },
     "execution_count": 66,
     "metadata": {},
     "output_type": "execute_result"
    }
   ],
   "source": [
    "x2d = torch.randn((Config.batch_size, Config.n_embd))                                # (B, C)  2d data \n",
    "x3d =  torch.randn((Config.batch_size, Config.block_size, Config.n_embd))            # (B, T, C) 3d data\n",
    "x4d = torch.randn((Config.batch_size, Config.n_embd, Config.height, Config.width))   # (B, C, H, W) 4d data\n",
    "\n",
    "x2d.shape, x3d.shape, x4d.shape"
   ]
  },
  {
   "cell_type": "markdown",
   "id": "7d9c50b9",
   "metadata": {},
   "source": [
    "*BN and LN for 2d data*"
   ]
  },
  {
   "cell_type": "code",
   "execution_count": 110,
   "id": "0ca73f67",
   "metadata": {},
   "outputs": [
    {
     "name": "stdout",
     "output_type": "stream",
     "text": [
      "is pytorch BN and our BN for 2d are equall? True\n",
      "is pytorch LN and our LN for 2d are equall? True\n"
     ]
    }
   ],
   "source": [
    "# bn and ln for 2d data \n",
    "bn = nn.BatchNorm1d(Config.n_embd) \n",
    "ln = nn.LayerNorm(Config.n_embd) \n",
    "\n",
    "# 2d data normalized by bn and ln\n",
    "x2d_bn = bn(x2d) \n",
    "x2d_ln = ln(x2d) \n",
    "\n",
    "# 2d data normalized by manuall\n",
    "x2d_bn_m = (x2d -  x2d.mean(0, keepdim= True) ) / torch.sqrt(x2d.var(0, keepdim= True, unbiased= False) + 1e-5)\n",
    "x2d_ln_m = ( x2d - x2d.mean(1, keepdim= True) ) / torch.sqrt( x2d.var(1, keepdim= True ,unbiased= False) + 1e-5)\n",
    "\n",
    "print(\"is pytorch BN and our BN for 2d are equall?\", torch.allclose(x2d_bn, x2d_bn_m))\n",
    "print(\"is pytorch LN and our LN for 2d are equall?\",torch.allclose(x2d_ln, x2d_ln_m, atol= 1e-7))"
   ]
  },
  {
   "cell_type": "markdown",
   "id": "9cc8cc5a",
   "metadata": {},
   "source": [
    "*BN and LN for 3d data*"
   ]
  },
  {
   "cell_type": "code",
   "execution_count": 111,
   "id": "2acb6a96",
   "metadata": {},
   "outputs": [
    {
     "name": "stdout",
     "output_type": "stream",
     "text": [
      "is pytorch LN and our LN for 3d data are equall ? True\n",
      "is pytorch BN and our BN for 3d data are equall ? True\n"
     ]
    }
   ],
   "source": [
    "# bn and ln for 3d data\n",
    "bn3 = nn.BatchNorm1d(Config.n_embd)\n",
    "ln3 = nn.LayerNorm(Config.n_embd) \n",
    "\n",
    "# 3d data normalized by bn and ln\n",
    "x3d_bn = bn3(x3d.transpose(-2, -1)) \n",
    "x3d_ln = ln3(x3d) \n",
    "\n",
    "# 3d data normalized by manuall bn and ln\n",
    "x3d_ln_m = (x3d -  x3d.mean(-1, keepdim=True)) / torch.sqrt(x3d.var(-1, keepdim=True, unbiased= False) + 1e-5) \n",
    "x3d_bn_m = (x3d.transpose(-1, -2) - x3d.transpose(-1, -2).mean((0, -1), keepdim= True)) / torch.sqrt(x3d.transpose(-1, -2).var((0, -1), unbiased= False, keepdim= True) + 1e-5)\n",
    "# x3d_bn_m = (x3d - x3d.mean((0, 1), keepdim= True)) / torch.sqrt(x3d.var((0, 1), unbiased= False, keepdim= True) + 1e-5)\n",
    "\n",
    "print(\"is pytorch LN and our LN for 3d data are equall ?\", torch.allclose(x3d_ln_m, x3d_ln, atol= 1e-7) )\n",
    "print('is pytorch BN and our BN for 3d data are equall ?', torch.allclose(x3d_bn, x3d_bn_m, atol= 1e-8))\n"
   ]
  },
  {
   "cell_type": "markdown",
   "id": "64b154c8",
   "metadata": {},
   "source": [
    "*BN and LN for 4d data*"
   ]
  },
  {
   "cell_type": "code",
   "execution_count": 112,
   "id": "071547d6",
   "metadata": {},
   "outputs": [
    {
     "name": "stdout",
     "output_type": "stream",
     "text": [
      "is pytorch BN and our BN for 4d data are equall ? True\n",
      "is pytorch LN and our LN for 4d data are equall ? True\n"
     ]
    }
   ],
   "source": [
    "#bn and ln for 4d data\n",
    "bn4 = nn.BatchNorm2d(Config.n_embd)\n",
    "ln4 = nn.LayerNorm((Config.n_embd, Config.height, Config.width)) \n",
    "\n",
    "# 4d data normalized by bn and ln\n",
    "x4d_bn = bn4(x4d) \n",
    "x4d_ln = ln4(x4d)\n",
    "\n",
    "# 4d data normalized by manuall bn and ln\n",
    "x4d_bn_m = (x4d - x4d.mean((0, 2, 3), keepdim= True) ) / torch.sqrt(x4d.var((0, 2, 3), keepdim=True, unbiased= False) + 1e-5)\n",
    "x4d_ln_m = (x4d - x4d.mean((1, 2, 3), keepdim= True) ) / torch.sqrt(x4d.var((1, 2, 3), keepdim= True, unbiased= False) + 1e-5)\n",
    "\n",
    "\n",
    "print(f\"is pytorch BN and our BN for 4d data are equall ?\", torch.allclose(x4d_bn_m, x4d_bn))\n",
    "print(f\"is pytorch LN and our LN for 4d data are equall ?\", torch.allclose(x4d_ln_m, x4d_ln))"
   ]
  },
  {
   "cell_type": "markdown",
   "id": "c5f401b4",
   "metadata": {},
   "source": [
    "# O"
   ]
  },
  {
   "cell_type": "code",
   "execution_count": 159,
   "id": "dcbcb828",
   "metadata": {},
   "outputs": [],
   "source": [
    "class DyT(nn.Module):\n",
    "\n",
    "    def __init__(self, config):\n",
    "        super(DyT, self).__init__()\n",
    "\n",
    "        self.alpha = nn.Parameter(torch.ones(1) * 0.5)\n",
    "        self.gamma = nn.Parameter(torch.ones(config.n_embd))\n",
    "        self.beta = nn.Parameter(torch.zeros(config.n_embd))\n",
    "\n",
    "    def forward(self, x):\n",
    "        # x is shape of (B, T, C) \n",
    "        x = torch.tanh( self.alpha * x) \n",
    "        return self.gamma * x + self.beta\n",
    "\n"
   ]
  },
  {
   "cell_type": "code",
   "execution_count": 160,
   "id": "684a2499",
   "metadata": {},
   "outputs": [
    {
     "data": {
      "text/plain": [
       "torch.Size([128])"
      ]
     },
     "execution_count": 160,
     "metadata": {},
     "output_type": "execute_result"
    }
   ],
   "source": [
    "x = torch.randn((Config.n_embd))\n",
    "dyt = DyT(Config)\n",
    "x.shape"
   ]
  },
  {
   "cell_type": "code",
   "execution_count": null,
   "id": "635618bd",
   "metadata": {},
   "outputs": [],
   "source": [
    "# normalized x\n",
    "dyt_x = dyt(x)\n",
    "ln = nn.LayerNorm(Config.n_embd)\n",
    "ln_x = ln(x)\n"
   ]
  },
  {
   "cell_type": "code",
   "execution_count": null,
   "id": "907fd952",
   "metadata": {},
   "outputs": [
    {
     "data": {
      "image/png": "[encoded data removed]",
      "text/plain": [
       "<Figure size 640x480 with 1 Axes>"
      ]
     },
     "metadata": {},
     "output_type": "display_data"
    }
   ],
   "source": [
    "plt.hist(x, histtype='step')\n",
    "plt.hist(dyt_x.detach().numpy())\n",
    "plt.hist(ln_x.detach().numpy(), color='red', histtype='step')\n",
    "plt.legend(['x', 'LN', 'DyT'])\n",
    "plt.show()"
   ]
  },
  {
   "cell_type": "code",
   "execution_count": 144,
   "id": "54ed8db5",
   "metadata": {},
   "outputs": [
    {
     "data": {
      "image/png": "[encoded data removed]",
      "text/plain": [
       "<Figure size 640x480 with 1 Axes>"
      ]
     },
     "metadata": {},
     "output_type": "display_data"
    }
   ],
   "source": [
    "plt.scatter(x, ln_x.detach().numpy())\n",
    "plt.scatter(x, dyt_x.detach().numpy(), marker='*')\n",
    "plt.legend(['LN', 'DyT'])\n",
    "plt.show()"
   ]
  }
 ],
 "metadata": {
  "kernelspec": {
   "display_name": "Python 3",
   "language": "python",
   "name": "python3"
  },
  "language_info": {
   "codemirror_mode": {
    "name": "ipython",
    "version": 3
   },
   "file_extension": ".py",
   "mimetype": "text/x-python",
   "name": "python",
   "nbconvert_exporter": "python",
   "pygments_lexer": "ipython3",
   "version": "3.12.0"
  }
 },
 "nbformat": 4,
 "nbformat_minor": 5
}
